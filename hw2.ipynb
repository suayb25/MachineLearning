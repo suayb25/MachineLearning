{
  "nbformat": 4,
  "nbformat_minor": 0,
  "metadata": {
    "colab": {
      "name": "hw2.ipynb",
      "provenance": [],
      "collapsed_sections": []
    },
    "kernelspec": {
      "name": "python3",
      "display_name": "Python 3"
    }
  },
  "cells": [
    {
      "cell_type": "code",
      "metadata": {
        "id": "5SfmlBBDcF2t",
        "colab_type": "code",
        "outputId": "1e16ad52-a1bf-44b6-e328-536395f38725",
        "colab": {
          "base_uri": "https://localhost:8080/",
          "height": 481
        }
      },
      "source": [
        "%matplotlib inline\n",
        "import matplotlib as mpl\n",
        "import matplotlib.pyplot as plt\n",
        "import numpy as np\n",
        "\n",
        "a=[1.14,1.22,1.18,1.34,1.24,2.12,2.36,1.86,1.64,2.92]\n",
        "b=[0,0,0,0,0,1,1,1,1,1]\n",
        "result_0=0 #upper for 1\n",
        "result_1=0 #upper for 0\n",
        "r_0_sum=0\n",
        "r_1_sum=0\n",
        "\n",
        "for i in range(len(b)):\n",
        "  if b[i]== 0:\n",
        "    r_0_sum+=1\n",
        "  if b[i]==1:\n",
        "    r_1_sum+=1\n",
        "\n",
        "print(\"r_0_sum= \",r_0_sum)\n",
        "print(\"r_1_sum= \",r_1_sum)\n",
        "\n",
        "for i in range(len(a)):\n",
        "  if b[i]==0:\n",
        "    result_0+=a[i]*r_0_sum\n",
        "  if b[i]==1:\n",
        "    result_1+=a[i]*r_1_sum\n",
        "\n",
        "\n",
        "m_0=result_0/r_0_sum\n",
        "m_1=result_1/r_1_sum\n",
        "print(\"m_0= \",m_0)\n",
        "print(\"m_1= \",m_1)\n",
        "\n",
        "si_0_sum=0\n",
        "si_1_sum=0\n",
        "for i in range(len(b)):\n",
        "  if b[i]==0:\n",
        "    si_0_sum+=((a[i]-m_0)**2)*r_0_sum\n",
        "  if b[i]==1:\n",
        "    si_1_sum+=((a[i]-m_1)**2)*r_1_sum\n",
        "\n",
        "print(\"si_1_sum= \",si_1_sum)\n",
        "print(\"si_0_sum= \",si_0_sum)\n",
        "\n",
        "si_0=si_0_sum/r_0_sum\n",
        "si_1=si_1_sum/r_1_sum\n",
        "print(\"si**2(0) = \",si_0)\n",
        "print(\"si**2(1) = \",si_1)\n",
        "\n",
        "p_0=r_0_sum/len(a)\n",
        "print(\"P(C0)= \",p_0)\n",
        "p_1=r_1_sum/len(a)\n",
        "print(\"P(C1)= \",p_1)\n",
        "\n",
        "a=np.array(a)\n",
        "a=a.reshape(-1, 1)\n",
        "\n",
        "from sklearn.linear_model import LogisticRegression\n",
        "log_reg = LogisticRegression(solver=\"lbfgs\", random_state=42)\n",
        "log_reg.fit(a, b)\n",
        "\n",
        "X_new = np.linspace(0, 3, 1000).reshape(-1, 1)\n",
        "y_proba = log_reg.predict_proba(X_new)\n",
        "decision_boundary = X_new[y_proba[:, 1] >= 0.5][0]\n",
        "\n",
        "plt.plot([decision_boundary, decision_boundary], [0, 1], \"k:\", linewidth=2)\n",
        "plt.plot(X_new, y_proba[:, 1], \"g-\", linewidth=2, label=\"C_1\")\n",
        "plt.plot(X_new, y_proba[:, 0], \"b--\", linewidth=2, label=\"C_0\")\n",
        "plt.grid(True)\n",
        "plt.legend(loc=\"center left\", fontsize=14)\n",
        "plt.xlabel(\"x\", fontsize=14)\n",
        "plt.ylabel(\"Probability\", fontsize=14)"
      ],
      "execution_count": 2,
      "outputs": [
        {
          "output_type": "stream",
          "text": [
            "r_0_sum=  5\n",
            "r_1_sum=  5\n",
            "m_0=  6.119999999999999\n",
            "m_1=  10.9\n",
            "si_1_sum=  1905.8480000000004\n",
            "si_0_sum=  599.3839999999999\n",
            "si**2(0) =  119.87679999999997\n",
            "si**2(1) =  381.16960000000006\n",
            "P(C0)=  0.5\n",
            "P(C1)=  0.5\n"
          ],
          "name": "stdout"
        },
        {
          "output_type": "execute_result",
          "data": {
            "text/plain": [
              "Text(0, 0.5, 'Probability')"
            ]
          },
          "metadata": {
            "tags": []
          },
          "execution_count": 2
        },
        {
          "output_type": "display_data",
          "data": {
            "image/png": "[encoded data removed]",
            "text/plain": [
              "<Figure size 432x288 with 1 Axes>"
            ]
          },
          "metadata": {
            "tags": []
          }
        }
      ]
    },
    {
      "cell_type": "code",
      "metadata": {
        "id": "OLYIZVrsGZ0s",
        "colab_type": "code",
        "colab": {
          "base_uri": "https://localhost:8080/",
          "height": 53
        },
        "outputId": "9d1022bd-a69b-4d10-d021-cc975fc33066"
      },
      "source": [
        "import math\n",
        "g_0_array=[]\n",
        "g_1_array=[]\n",
        "pi=math.pi\n",
        "si_0_sqrt=math.sqrt(si_0)\n",
        "si_1_sqrt=math.sqrt(si_1)\n",
        "g_0=0\n",
        "g_1=0\n",
        "for i in range(len(b)):\n",
        "  if b[i]==0:\n",
        "    g_0=0.5*math.log(2*pi) - math.log(si_0) - ((a[i]-m_0)**2)/(2*si_0) + math.log(p_0)\n",
        "    g_0_array.append(g_0[0])\n",
        "  if b[i]==1:\n",
        "    g_1=0.5*math.log(2*pi) - math.log(si_1) - ((a[i]-m_1)**2)/(2*si_1) + math.log(p_1)\n",
        "    g_1_array.append(g_1[0])\n",
        "print(\"g_0_array= \",g_0_array) \n",
        "print(\"g_1_array= \",g_1_array) \n",
        "\n"
      ],
      "execution_count": 27,
      "outputs": [
        {
          "output_type": "stream",
          "text": [
            "g_0_array=  [-4.664114395719056, -4.66081767775528, -4.662459363219022, -4.655972703581795, -4.660001840162018]\n",
            "g_1_array=  [-5.8185739336738465, -5.813121242798183, -5.824651543220883, -5.829932656929846, -5.800985962335104]\n"
          ],
          "name": "stdout"
        }
      ]
    },
    {
      "cell_type": "markdown",
      "metadata": {
        "id": "iG7fs_wgIkv9",
        "colab_type": "text"
      },
      "source": [
        "If the priors are equal, the last term can also be dropped. If\n",
        "we can further assume that variances are equal, we can write"
      ]
    },
    {
      "cell_type": "code",
      "metadata": {
        "id": "Mq8uE42XIm-T",
        "colab_type": "code",
        "colab": {
          "base_uri": "https://localhost:8080/",
          "height": 53
        },
        "outputId": "0beac41e-a4a9-4dc6-e95b-18302df3a8be"
      },
      "source": [
        "g_0_dropped_array=[]\n",
        "g_1_dropped_array=[]\n",
        "for i in range(len(b)):\n",
        "  if b[i]==0:\n",
        "    g_0_dropped=-((a[i]-m_0)**2)\n",
        "    g_0_dropped_array.append(g_0_dropped[0])\n",
        "  if b[i]==1:\n",
        "    g_1_dropped=-((a[i]-m_1)**2)\n",
        "    g_1_dropped_array.append(g_1_dropped[0])\n",
        "\n",
        "print(\"g_0_dropped_array= \",g_0_dropped_array)\n",
        "print(\"g_1_dropped_array= \",g_1_dropped_array)"
      ],
      "execution_count": 28,
      "outputs": [
        {
          "output_type": "stream",
          "text": [
            "g_0_dropped_array=  [-24.800399999999996, -24.009999999999994, -24.403599999999994, -22.848399999999994, -23.814399999999992]\n",
            "g_1_dropped_array=  [-77.08840000000002, -72.93160000000002, -81.72160000000002, -85.74759999999999, -63.680400000000006]\n"
          ],
          "name": "stdout"
        }
      ]
    },
    {
      "cell_type": "markdown",
      "metadata": {
        "id": "ytHNNZ1iM4ls",
        "colab_type": "text"
      },
      "source": [
        "Choose Ci if |x −mi| = min|x −mk|"
      ]
    },
    {
      "cell_type": "code",
      "metadata": {
        "id": "oBsIX_1IJTHl",
        "colab_type": "code",
        "colab": {
          "base_uri": "https://localhost:8080/",
          "height": 125
        },
        "outputId": "7cffb348-e134-4af7-bfdf-38d2dba087a9"
      },
      "source": [
        "Ci_min=[]\n",
        "for i in range(len(b)):\n",
        "  if b[i]==0:\n",
        "    value=np.abs(a[i]-m_0)\n",
        "    Ci_min.append(value[0])\n",
        "  if b[i]==1:\n",
        "    value=abs(a[i]-m_1)\n",
        "    Ci_min.append(value[0])\n",
        "\n",
        "print(\"Ci_min= \",Ci_min)\n",
        "print(\"min= \",min(Ci_min))\n",
        "if Ci_min.index(min(Ci_min)) <=4 :\n",
        "    print(\"Choose C_i is C_0 min is\", min(Ci_min))\n",
        "else:\n",
        "    print(\"Choose C_i is C_1 min is\", min(Ci_min))\n",
        "\n",
        "\n",
        "midpoint=(m_0+m_1)/2\n",
        "\n",
        "print(\"g0(x)= \",-((midpoint-m_0)**2)) \n",
        "print(\"g1(x)= \",-((midpoint-m_1)**2))\n",
        "threshold_decision=0\n",
        "if -((midpoint-m_0)**2) == -((midpoint-m_1)**2):\n",
        "  threshold_decision=-((midpoint-m_0)**2)\n",
        "\n",
        "print(\"the midpoint between the two means is the threshold of decision= \",threshold_decision)"
      ],
      "execution_count": 37,
      "outputs": [
        {
          "output_type": "stream",
          "text": [
            "Ci_min=  [4.9799999999999995, 4.8999999999999995, 4.9399999999999995, 4.779999999999999, 4.879999999999999, 8.780000000000001, 8.540000000000001, 9.040000000000001, 9.26, 7.98]\n",
            "min=  4.779999999999999\n",
            "Choose C_i is C_0 min is 4.779999999999999\n",
            "g0(x)=  -5.712100000000003\n",
            "g1(x)=  -5.712100000000003\n",
            "the midpoint between the two means is the threshold of decision=  -5.712100000000003\n"
          ],
          "name": "stdout"
        }
      ]
    }
  ]
}