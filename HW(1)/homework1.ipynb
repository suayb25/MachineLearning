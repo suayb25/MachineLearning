{
 "cells": [
  {
   "cell_type": "code",
   "execution_count": 148,
   "metadata": {},
   "outputs": [],
   "source": [
    "import pandas as pd\n",
    "import numpy as np\n",
    "%matplotlib inline\n",
    "import matplotlib as mpl\n",
    "import matplotlib.pyplot as plt\n",
    "\n",
    "features=pd.read_csv('hw.csv',header=None)"
   ]
  },
  {
   "cell_type": "code",
   "execution_count": 149,
   "metadata": {},
   "outputs": [
    {
     "data": {
      "text/html": [
       "<div>\n",
       "<style scoped>\n",
       "    .dataframe tbody tr th:only-of-type {\n",
       "        vertical-align: middle;\n",
       "    }\n",
       "\n",
       "    .dataframe tbody tr th {\n",
       "        vertical-align: top;\n",
       "    }\n",
       "\n",
       "    .dataframe thead th {\n",
       "        text-align: right;\n",
       "    }\n",
       "</style>\n",
       "<table border=\"1\" class=\"dataframe\">\n",
       "  <thead>\n",
       "    <tr style=\"text-align: right;\">\n",
       "      <th></th>\n",
       "      <th>0</th>\n",
       "      <th>1</th>\n",
       "      <th>2</th>\n",
       "    </tr>\n",
       "  </thead>\n",
       "  <tbody>\n",
       "    <tr>\n",
       "      <th>0</th>\n",
       "      <td>0.90</td>\n",
       "      <td>0.80</td>\n",
       "      <td>N</td>\n",
       "    </tr>\n",
       "    <tr>\n",
       "      <th>1</th>\n",
       "      <td>0.85</td>\n",
       "      <td>2.10</td>\n",
       "      <td>N</td>\n",
       "    </tr>\n",
       "    <tr>\n",
       "      <th>2</th>\n",
       "      <td>1.20</td>\n",
       "      <td>1.00</td>\n",
       "      <td>N</td>\n",
       "    </tr>\n",
       "    <tr>\n",
       "      <th>3</th>\n",
       "      <td>2.10</td>\n",
       "      <td>0.95</td>\n",
       "      <td>N</td>\n",
       "    </tr>\n",
       "    <tr>\n",
       "      <th>4</th>\n",
       "      <td>3.00</td>\n",
       "      <td>1.10</td>\n",
       "      <td>N</td>\n",
       "    </tr>\n",
       "    <tr>\n",
       "      <th>5</th>\n",
       "      <td>3.90</td>\n",
       "      <td>0.70</td>\n",
       "      <td>N</td>\n",
       "    </tr>\n",
       "    <tr>\n",
       "      <th>6</th>\n",
       "      <td>4.00</td>\n",
       "      <td>1.40</td>\n",
       "      <td>N</td>\n",
       "    </tr>\n",
       "    <tr>\n",
       "      <th>7</th>\n",
       "      <td>4.20</td>\n",
       "      <td>1.80</td>\n",
       "      <td>N</td>\n",
       "    </tr>\n",
       "    <tr>\n",
       "      <th>8</th>\n",
       "      <td>2.00</td>\n",
       "      <td>2.30</td>\n",
       "      <td>N</td>\n",
       "    </tr>\n",
       "    <tr>\n",
       "      <th>9</th>\n",
       "      <td>3.00</td>\n",
       "      <td>2.30</td>\n",
       "      <td>N</td>\n",
       "    </tr>\n",
       "    <tr>\n",
       "      <th>10</th>\n",
       "      <td>1.50</td>\n",
       "      <td>1.80</td>\n",
       "      <td>Y</td>\n",
       "    </tr>\n",
       "    <tr>\n",
       "      <th>11</th>\n",
       "      <td>2.00</td>\n",
       "      <td>1.50</td>\n",
       "      <td>Y</td>\n",
       "    </tr>\n",
       "    <tr>\n",
       "      <th>12</th>\n",
       "      <td>2.20</td>\n",
       "      <td>2.00</td>\n",
       "      <td>Y</td>\n",
       "    </tr>\n",
       "    <tr>\n",
       "      <th>13</th>\n",
       "      <td>2.60</td>\n",
       "      <td>1.70</td>\n",
       "      <td>Y</td>\n",
       "    </tr>\n",
       "    <tr>\n",
       "      <th>14</th>\n",
       "      <td>2.70</td>\n",
       "      <td>1.85</td>\n",
       "      <td>Y</td>\n",
       "    </tr>\n",
       "  </tbody>\n",
       "</table>\n",
       "</div>"
      ],
      "text/plain": [
       "       0     1  2\n",
       "0   0.90  0.80  N\n",
       "1   0.85  2.10  N\n",
       "2   1.20  1.00  N\n",
       "3   2.10  0.95  N\n",
       "4   3.00  1.10  N\n",
       "5   3.90  0.70  N\n",
       "6   4.00  1.40  N\n",
       "7   4.20  1.80  N\n",
       "8   2.00  2.30  N\n",
       "9   3.00  2.30  N\n",
       "10  1.50  1.80  Y\n",
       "11  2.00  1.50  Y\n",
       "12  2.20  2.00  Y\n",
       "13  2.60  1.70  Y\n",
       "14  2.70  1.85  Y"
      ]
     },
     "execution_count": 149,
     "metadata": {},
     "output_type": "execute_result"
    }
   ],
   "source": [
    "features"
   ]
  },
  {
   "cell_type": "code",
   "execution_count": 150,
   "metadata": {},
   "outputs": [],
   "source": [
    "feature_concepts=np.array(features)[:,:-1]"
   ]
  },
  {
   "cell_type": "code",
   "execution_count": 151,
   "metadata": {},
   "outputs": [
    {
     "data": {
      "image/png": "[encoded data removed]",
      "text/plain": [
       "<Figure size 432x288 with 1 Axes>"
      ]
     },
     "metadata": {
      "needs_background": "light"
     },
     "output_type": "display_data"
    }
   ],
   "source": [
    "plt.plot(feature_concepts[:9,0], feature_concepts[:9,1], \"b.\",label=\"no\")\n",
    "plt.plot(feature_concepts[10:,0], feature_concepts[10:,1], \"r.\",label=\"yes\")\n",
    "plt.legend(loc=\"upper right\", fontsize=14) \n",
    "plt.xlabel(\"$x$\", fontsize=18)\n",
    "plt.ylabel(\"$y$\", rotation=0, fontsize=18)\n",
    "plt.axis([0, 5, 0, 5])\n",
    "plt.show()"
   ]
  },
  {
   "cell_type": "code",
   "execution_count": 152,
   "metadata": {},
   "outputs": [
    {
     "data": {
      "text/plain": [
       "array([[0.9, 0.8],\n",
       "       [0.85, 2.1],\n",
       "       [1.2, 1.0],\n",
       "       [2.1, 0.95],\n",
       "       [3.0, 1.1],\n",
       "       [3.9, 0.7],\n",
       "       [4.0, 1.4],\n",
       "       [4.2, 1.8],\n",
       "       [2.0, 2.3],\n",
       "       [3.0, 2.3],\n",
       "       [1.5, 1.8],\n",
       "       [2.0, 1.5],\n",
       "       [2.2, 2.0],\n",
       "       [2.6, 1.7],\n",
       "       [2.7, 1.85]], dtype=object)"
      ]
     },
     "execution_count": 152,
     "metadata": {},
     "output_type": "execute_result"
    }
   ],
   "source": [
    "feature_concepts"
   ]
  },
  {
   "cell_type": "code",
   "execution_count": 153,
   "metadata": {},
   "outputs": [],
   "source": [
    "target=np.array(features)[:,-1]"
   ]
  },
  {
   "cell_type": "code",
   "execution_count": 154,
   "metadata": {},
   "outputs": [
    {
     "data": {
      "text/plain": [
       "array(['N', 'N', 'N', 'N', 'N', 'N', 'N', 'N', 'N', 'N', 'Y', 'Y', 'Y',\n",
       "       'Y', 'Y'], dtype=object)"
      ]
     },
     "execution_count": 154,
     "metadata": {},
     "output_type": "execute_result"
    }
   ],
   "source": [
    "target"
   ]
  },
  {
   "cell_type": "code",
   "execution_count": 155,
   "metadata": {},
   "outputs": [],
   "source": [
    "def select_general(a,b):\n",
    "    general=[]\n",
    "    for i,k in zip(a,b):\n",
    "        if(i=='?' or (i != '?' and (i == k or k == '?'))):\n",
    "            general.apppend(i)\n",
    "    return all(general)\n",
    "    "
   ]
  },
  {
   "cell_type": "code",
   "execution_count": 156,
   "metadata": {},
   "outputs": [],
   "source": [
    "def train(concepts,targets):\n",
    "    for i, result_class in enumerate(targets):\n",
    "        if(result_class=='Y'):-\n",
    "            specific_hypothesis=concepts[i].copy()\n",
    "            break\n",
    "     \n",
    "    for i, result_class in enumerate(concepts):\n",
    "        if targets[i]=='Y':\n",
    "            for x in range(len(specific_hypothesis)):\n",
    "                if result_class[x] != specific_hypothesis[x]:\n",
    "                    specific_hypothesis[x]= '?'\n",
    "                else:\n",
    "                    pass\n",
    "            print(\"S[\",i,\"]\",specific_hypothesis)\n",
    "    #result=['','']            \n",
    "    #for k in range(len(specific_hypothesis)):\n",
    "    #    if specific_hypothesis[k] == -1:\n",
    "    #        result[k]='?'\n",
    "    #    else:\n",
    "    #        result[k]=specific_hypothesis[k]\n",
    "                \n",
    "    return specific_hypothesis\n",
    "    \n",
    "    "
   ]
  },
  {
   "cell_type": "markdown",
   "metadata": {},
   "source": [
    "**S (the most specific hypothesis) =**"
   ]
  },
  {
   "cell_type": "code",
   "execution_count": 163,
   "metadata": {},
   "outputs": [
    {
     "name": "stdout",
     "output_type": "stream",
     "text": [
      "S[ 10 ] [1.5 1.8]\n",
      "S[ 11 ] ['?' '?']\n",
      "S[ 12 ] ['?' '?']\n",
      "S[ 13 ] ['?' '?']\n",
      "S[ 14 ] ['?' '?']\n",
      "S=  ['?' '?']\n"
     ]
    }
   ],
   "source": [
    "print(\"S= \",train(feature_concepts,target))"
   ]
  },
  {
   "cell_type": "code",
   "execution_count": 171,
   "metadata": {},
   "outputs": [],
   "source": [
    "def createG(n):\n",
    "    G=[None]*n\n",
    "    for i in range(0,n):\n",
    "        G[i]='?'\n",
    "    return G\n",
    "    "
   ]
  },
  {
   "cell_type": "code",
   "execution_count": 172,
   "metadata": {},
   "outputs": [],
   "source": [
    "def findG(features):\n",
    "    G= createG(2)\n",
    "    S= train(feature_concepts,target)\n",
    "    print(\"G= \",G)\n"
   ]
  },
  {
   "cell_type": "code",
   "execution_count": 173,
   "metadata": {},
   "outputs": [
    {
     "name": "stdout",
     "output_type": "stream",
     "text": [
      "S[ 10 ] [1.5 1.8]\n",
      "S[ 11 ] ['?' '?']\n",
      "S[ 12 ] ['?' '?']\n",
      "S[ 13 ] ['?' '?']\n",
      "S[ 14 ] ['?' '?']\n",
      "G=  ['?', '?']\n"
     ]
    }
   ],
   "source": [
    "findG(features)"
   ]
  },
  {
   "cell_type": "code",
   "execution_count": null,
   "metadata": {},
   "outputs": [],
   "source": []
  }
 ],
 "metadata": {
  "kernelspec": {
   "display_name": "Python 3",
   "language": "python",
   "name": "python3"
  },
  "language_info": {
   "codemirror_mode": {
    "name": "ipython",
    "version": 3
   },
   "file_extension": ".py",
   "mimetype": "text/x-python",
   "name": "python",
   "nbconvert_exporter": "python",
   "pygments_lexer": "ipython3",
   "version": "3.7.3"
  }
 },
 "nbformat": 4,
 "nbformat_minor": 2
}
